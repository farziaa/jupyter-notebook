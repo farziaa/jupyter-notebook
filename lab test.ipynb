{
 "cells": [
  {
   "cell_type": "markdown",
   "metadata": {},
   "source": [
    "# TNT LAB TEST"
   ]
  },
  {
   "cell_type": "markdown",
   "metadata": {},
   "source": [
    "# 1828241"
   ]
  },
  {
   "cell_type": "markdown",
   "metadata": {},
   "source": [
    "#### Write a Python program to find the average of lowest 3 values in a dictionary."
   ]
  },
  {
   "cell_type": "code",
   "execution_count": 10,
   "metadata": {},
   "outputs": [
    {
     "name": "stdout",
     "output_type": "stream",
     "text": [
      "[23, 24, 45, 67, 91, 94]\n",
      "Average of the three lowest numbers:  30.666666666666668\n"
     ]
    }
   ],
   "source": [
    "\n",
    "marks={'A':23,'B':45,'C':24,'D':91,'E':67,'F':94}\n",
    "\n",
    "f=sorted(marks.values())\n",
    "print(f)\n",
    "total=0\n",
    "for i in range(3):\n",
    "  total=total+m[i]\n",
    "\n",
    "print(\"Average of the three lowest numbers: \",total/3)"
   ]
  },
  {
   "cell_type": "markdown",
   "metadata": {},
   "source": [
    "#### WAP TO PRINT A DICT WITH 8 KEYS, UPDATE THE MIDDLE KEY AND DELETE SECOND LAST KEY  FROM RIGHT"
   ]
  },
  {
   "cell_type": "code",
   "execution_count": 5,
   "metadata": {},
   "outputs": [
    {
     "name": "stdout",
     "output_type": "stream",
     "text": [
      "Enter new value for the middle key:65\n",
      "Deleting the second last key.\n",
      "New contents of the dictionary: {'item1': 25.2, 'item2': 55, 'item3': 67.3, 'item4': 65, 'item5': 24, 'item6': 97.5, 'item8': 121}\n"
     ]
    }
   ],
   "source": [
    "d={'item1': 25.20, 'item2':55, 'item3': 67.30, 'item4':55, 'item5': 24,'item6': 97.50, 'item7':20, 'item8': 121}\n",
    "\n",
    "x=int(input(\"Enter new value for the middle key:\"))\n",
    "d.update({'item4':x})\n",
    "\n",
    "print(\"Deleting the second last key.\")\n",
    "d.pop('item7')\n",
    "\n",
    "print(\"New contents of the dictionary:\",d)"
   ]
  },
  {
   "cell_type": "markdown",
   "metadata": {},
   "source": [
    "#### Write a Python program to get the frequency of the second last element  in a list."
   ]
  },
  {
   "cell_type": "code",
   "execution_count": 7,
   "metadata": {},
   "outputs": [
    {
     "name": "stdout",
     "output_type": "stream",
     "text": [
      "The second last element of the list: 1\n",
      "The frequency of the second last item: 7\n"
     ]
    }
   ],
   "source": [
    "k=[1,2,2,3,2,5,6,8,5,5,4,5,6,7,2,2,1,3,4,8,5,2,3,3,1,1,3]\n",
    "\n",
    "freq={}\n",
    "\n",
    "for i in k: \n",
    "  if i in freq: \n",
    "      freq[i] += 1\n",
    "  else: \n",
    "      freq[i] = 1\n",
    "\n",
    "print(\" second last element of the list:\",k[-2])\n",
    "\n",
    "for value,key in freq.items():\n",
    "  if key==k[-2]:\n",
    "    print(\"frequency of the second last item:\",value)"
   ]
  },
  {
   "cell_type": "code",
   "execution_count": null,
   "metadata": {},
   "outputs": [],
   "source": []
  }
 ],
 "metadata": {
  "kernelspec": {
   "display_name": "Python 3",
   "language": "python",
   "name": "python3"
  },
  "language_info": {
   "codemirror_mode": {
    "name": "ipython",
    "version": 3
   },
   "file_extension": ".py",
   "mimetype": "text/x-python",
   "name": "python",
   "nbconvert_exporter": "python",
   "pygments_lexer": "ipython3",
   "version": "3.9.1"
  }
 },
 "nbformat": 4,
 "nbformat_minor": 4
}
